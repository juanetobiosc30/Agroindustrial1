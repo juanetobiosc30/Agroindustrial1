{
  "nbformat": 4,
  "nbformat_minor": 0,
  "metadata": {
    "colab": {
      "provenance": [],
      "authorship_tag": "ABX9TyNfZ4mAKQ6jTNoEUB9RPd12",
      "include_colab_link": true
    },
    "kernelspec": {
      "name": "python3",
      "display_name": "Python 3"
    },
    "language_info": {
      "name": "python"
    }
  },
  "cells": [
    {
      "cell_type": "markdown",
      "metadata": {
        "id": "view-in-github",
        "colab_type": "text"
      },
      "source": [
        "<a href=\"https://colab.research.google.com/github/juanetobiosc30/Agroindustrial1/blob/main/Agroindutrial1.ipynb\" target=\"_parent\"><img src=\"https://colab.research.google.com/assets/colab-badge.svg\" alt=\"Open In Colab\"/></a>"
      ]
    },
    {
      "cell_type": "code",
      "execution_count": null,
      "metadata": {
        "id": "e5VuKuIS0xXF"
      },
      "outputs": [],
      "source": []
    },
    {
      "cell_type": "code",
      "metadata": {
        "colab": {
          "base_uri": "https://localhost:8080/"
        },
        "id": "25a32aa4",
        "outputId": "e61a8378-1a1c-4a6b-e65b-887ccab59de1"
      },
      "source": [
        "numero1 = 10\n",
        "numero2 = 5\n",
        "suma = numero1 + numero2\n",
        "print(f\"La suma de {numero1} y {numero2} es: {suma}\")"
      ],
      "execution_count": 1,
      "outputs": [
        {
          "output_type": "stream",
          "name": "stdout",
          "text": [
            "La suma de 10 y 5 es: 15\n"
          ]
        }
      ]
    },
    {
      "cell_type": "markdown",
      "metadata": {
        "id": "3ef2952f"
      },
      "source": [
        "Aquí tienes la explicación del código:\n",
        "\n",
        "1.  `numero1 = 10`: Asigna el valor `10` a la variable llamada `numero1`.\n",
        "2.  `numero2 = 5`: Asigna el valor `5` a la variable llamada `numero2`.\n",
        "3.  `suma = numero1 + numero2`: Suma los valores de `numero1` y `numero2` (que son 10 y 5) y asigna el resultado (`15`) a la variable llamada `suma`.\n",
        "4.  `print(f\"La suma de {numero1} y {numero2} es: {suma}\")`: Imprime en la consola un mensaje que incluye los valores de las variables `numero1`, `numero2` y `suma`. La `f` antes de las comillas indica que es un \"f-string\", lo que permite insertar fácilmente los valores de las variables dentro del texto usando llaves `{}`.\n",
        "\n",
        "En resumen, el código define dos números, los suma y luego imprime el resultado de la suma."
      ]
    },
    {
      "cell_type": "code",
      "metadata": {
        "colab": {
          "base_uri": "https://localhost:8080/"
        },
        "id": "481c11a8",
        "outputId": "0440b5d2-1073-430d-ae3a-912d420e7dfd"
      },
      "source": [
        "numero1 = 20\n",
        "numero2 = 5\n",
        "\n",
        "# Suma\n",
        "suma = numero1 + numero2\n",
        "print(f\"Suma: {numero1} + {numero2} = {suma}\")\n",
        "\n",
        "# Resta\n",
        "resta = numero1 - numero2\n",
        "print(f\"Resta: {numero1} - {numero2} = {resta}\")\n",
        "\n",
        "# Multiplicación\n",
        "multiplicacion = numero1 * numero2\n",
        "print(f\"Multiplicación: {numero1} * {numero2} = {multiplicacion}\")\n",
        "\n",
        "# División\n",
        "division = numero1 / numero2\n",
        "print(f\"División: {numero1} / {numero2} = {division}\")\n",
        "\n",
        "# División entera (Floor Division)\n",
        "division_entera = numero1 // numero2\n",
        "print(f\"División entera: {numero1} // {numero2} = {division_entera}\")\n",
        "\n",
        "# Módulo\n",
        "modulo = numero1 % numero2\n",
        "print(f\"Módulo: {numero1} % {numero2} = {modulo}\")\n",
        "\n",
        "# Exponenciación\n",
        "exponenciacion = numero1 ** numero2\n",
        "print(f\"Exponenciación: {numero1} ** {numero2} = {exponenciacion}\")"
      ],
      "execution_count": 2,
      "outputs": [
        {
          "output_type": "stream",
          "name": "stdout",
          "text": [
            "Suma: 20 + 5 = 25\n",
            "Resta: 20 - 5 = 15\n",
            "Multiplicación: 20 * 5 = 100\n",
            "División: 20 / 5 = 4.0\n",
            "División entera: 20 // 5 = 4\n",
            "Módulo: 20 % 5 = 0\n",
            "Exponenciación: 20 ** 5 = 3200000\n"
          ]
        }
      ]
    },
    {
      "cell_type": "markdown",
      "metadata": {
        "id": "0ca7be42"
      },
      "source": [
        "Aquí tienes la explicación línea a línea del código:\n",
        "\n",
        "*   `numero1 = 20`: Asigna el valor `20` a la variable `numero1`.\n",
        "*   `numero2 = 5`: Asigna el valor `5` a la variable `numero2`.\n",
        "\n",
        "*   `# Suma`: Un comentario que indica que la siguiente sección es para la suma.\n",
        "*   `suma = numero1 + numero2`: Suma los valores de `numero1` y `numero2` (20 + 5) y asigna el resultado (25) a la variable `suma`.\n",
        "*   `print(f\"Suma: {numero1} + {numero2} = {suma}\")`: Imprime una línea que muestra los números sumados y el resultado.\n",
        "\n",
        "*   `# Resta`: Un comentario para la resta.\n",
        "*   `resta = numero1 - numero2`: Resta `numero2` de `numero1` (20 - 5) y asigna el resultado (15) a `resta`.\n",
        "*   `print(f\"Resta: {numero1} - {numero2} = {resta}\")`: Imprime la operación de resta y su resultado.\n",
        "\n",
        "*   `# Multiplicación`: Un comentario para la multiplicación.\n",
        "*   `multiplicacion = numero1 * numero2`: Multiplica `numero1` por `numero2` (20 * 5) y asigna el resultado (100) a `multiplicacion`.\n",
        "*   `print(f\"Multiplicación: {numero1} * {numero2} = {multiplicacion}\")`: Imprime la operación de multiplicación y su resultado.\n",
        "\n",
        "*   `# División`: Un comentario para la división.\n",
        "*   `division = numero1 / numero2`: Divide `numero1` entre `numero2` (20 / 5) y asigna el resultado (4.0) a `division`. La división con `/` siempre devuelve un número de punto flotante (float).\n",
        "*   `print(f\"División: {numero1} / {numero2} = {division}\")`: Imprime la operación de división y su resultado.\n",
        "\n",
        "*   `# División entera (Floor Division)`: Un comentario para la división entera.\n",
        "*   `division_entera = numero1 // numero2`: Divide `numero1` entre `numero2` (20 // 5) y asigna el resultado (4) a `division_entera`. La división entera con `//` descarta la parte decimal y devuelve un número entero.\n",
        "*   `print(f\"División entera: {numero1} // {numero2} = {division_entera}\")`: Imprime la operación de división entera y su resultado.\n",
        "\n",
        "*   `# Módulo`: Un comentario para el módulo.\n",
        "*   `modulo = numero1 % numero2`: Calcula el resto de la división de `numero1` entre `numero2` (20 % 5). El resto es 0, y se asigna a `modulo`.\n",
        "*   `print(f\"Módulo: {numero1} % {numero2} = {modulo}\")`: Imprime la operación de módulo y su resultado.\n",
        "\n",
        "*   `# Exponenciación`: Un comentario para la exponenciación.\n",
        "*   `exponenciacion = numero1 ** numero2`: Eleva `numero1` a la potencia de `numero2` (20 elevado a la 5). El resultado es 3,200,000, que se asigna a `exponenciacion`.\n",
        "*   `print(f\"Exponenciación: {numero1} ** {numero2} = {exponenciacion}\")`: Imprime la operación de exponenciación y su resultado."
      ]
    }
  ]
}