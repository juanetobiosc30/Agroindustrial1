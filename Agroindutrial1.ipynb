{
  "nbformat": 4,
  "nbformat_minor": 0,
  "metadata": {
    "colab": {
      "provenance": [],
      "authorship_tag": "ABX9TyOtA9Ee7RTRuEmV7b5mB1oQ",
      "include_colab_link": true
    },
    "kernelspec": {
      "name": "python3",
      "display_name": "Python 3"
    },
    "language_info": {
      "name": "python"
    }
  },
  "cells": [
    {
      "cell_type": "markdown",
      "metadata": {
        "id": "view-in-github",
        "colab_type": "text"
      },
      "source": [
        "<a href=\"https://colab.research.google.com/github/juanetobiosc30/Agroindustrial1/blob/main/Agroindutrial1.ipynb\" target=\"_parent\"><img src=\"https://colab.research.google.com/assets/colab-badge.svg\" alt=\"Open In Colab\"/></a>"
      ]
    },
    {
      "cell_type": "code",
      "execution_count": null,
      "metadata": {
        "id": "e5VuKuIS0xXF"
      },
      "outputs": [],
      "source": []
    },
    {
      "cell_type": "code",
      "metadata": {
        "colab": {
          "base_uri": "https://localhost:8080/"
        },
        "id": "25a32aa4",
        "outputId": "e61a8378-1a1c-4a6b-e65b-887ccab59de1"
      },
      "source": [
        "numero1 = 10\n",
        "numero2 = 5\n",
        "suma = numero1 + numero2\n",
        "print(f\"La suma de {numero1} y {numero2} es: {suma}\")"
      ],
      "execution_count": 1,
      "outputs": [
        {
          "output_type": "stream",
          "name": "stdout",
          "text": [
            "La suma de 10 y 5 es: 15\n"
          ]
        }
      ]
    },
    {
      "cell_type": "markdown",
      "metadata": {
        "id": "3ef2952f"
      },
      "source": [
        "Aquí tienes la explicación del código:\n",
        "\n",
        "1.  `numero1 = 10`: Asigna el valor `10` a la variable llamada `numero1`.\n",
        "2.  `numero2 = 5`: Asigna el valor `5` a la variable llamada `numero2`.\n",
        "3.  `suma = numero1 + numero2`: Suma los valores de `numero1` y `numero2` (que son 10 y 5) y asigna el resultado (`15`) a la variable llamada `suma`.\n",
        "4.  `print(f\"La suma de {numero1} y {numero2} es: {suma}\")`: Imprime en la consola un mensaje que incluye los valores de las variables `numero1`, `numero2` y `suma`. La `f` antes de las comillas indica que es un \"f-string\", lo que permite insertar fácilmente los valores de las variables dentro del texto usando llaves `{}`.\n",
        "\n",
        "En resumen, el código define dos números, los suma y luego imprime el resultado de la suma."
      ]
    }
  ]
}