{
  "nbformat": 4,
  "nbformat_minor": 0,
  "metadata": {
    "colab": {
      "provenance": [],
      "authorship_tag": "ABX9TyONG3zkro2PvCeHeWAMVYdZ",
      "include_colab_link": true
    },
    "kernelspec": {
      "name": "python3",
      "display_name": "Python 3"
    },
    "language_info": {
      "name": "python"
    }
  },
  "cells": [
    {
      "cell_type": "markdown",
      "metadata": {
        "id": "view-in-github",
        "colab_type": "text"
      },
      "source": [
        "<a href=\"https://colab.research.google.com/github/juanetobiosc30/Agroindustrial1/blob/main/Untitled1.ipynb\" target=\"_parent\"><img src=\"https://colab.research.google.com/assets/colab-badge.svg\" alt=\"Open In Colab\"/></a>"
      ]
    },
    {
      "cell_type": "code",
      "execution_count": null,
      "metadata": {
        "id": "sMkonxRIdf1m"
      },
      "outputs": [],
      "source": []
    },
    {
      "cell_type": "code",
      "metadata": {
        "colab": {
          "base_uri": "https://localhost:8080/"
        },
        "id": "0327c399",
        "outputId": "29983eb2-3e8d-4c88-ab77-d2fa60a7cb09"
      },
      "source": [
        "# Define two integer variables\n",
        "num1 = 5\n",
        "num2 = 10\n",
        "\n",
        "# Multiply the two numbers\n",
        "result = num1 * num2\n",
        "\n",
        "# Print the result\n",
        "print(f\"The product of {num1} and {num2} is: {result}\")"
      ],
      "execution_count": 1,
      "outputs": [
        {
          "output_type": "stream",
          "name": "stdout",
          "text": [
            "The product of 5 and 10 is: 50\n"
          ]
        }
      ]
    },
    {
      "cell_type": "markdown",
      "metadata": {
        "id": "5b1875f6"
      },
      "source": [
        "Aquí tienes la explicación del código línea por línea:\n",
        "\n",
        "*   `# Define two integer variables`: Esta línea es un comentario. Los comentarios no afectan la ejecución del código, solo sirven para agregar notas o explicaciones para que el código sea más fácil de entender. En este caso, el comentario indica que las siguientes líneas definirán dos variables enteras.\n",
        "*   `num1 = 5`: Esta línea define una variable llamada `num1` y le asigna el valor entero `5`.\n",
        "*   `num2 = 10`: De manera similar, esta línea define otra variable llamada `num2` y le asigna el valor entero `10`.\n",
        "*   `# Multiply the two numbers`: Otro comentario, indicando que la siguiente línea realizará una multiplicación.\n",
        "*   `result = num1 * num2`: Esta es la línea donde ocurre la multiplicación. Se multiplican los valores almacenados en las variables `num1` y `num2` (que son 5 y 10) y el resultado (`50`) se asigna a una nueva variable llamada `result`.\n",
        "*   `# Print the result`: Otro comentario, indicando que la siguiente línea imprimirá el resultado.\n",
        "*   `print(f\"The product of {num1} and {num2} is: {result}\")`: Esta línea utiliza la función `print()` para mostrar la salida en la consola. La `f` antes de la cadena de texto `f\"...\"` indica que es un \"f-string\" (cadena formateada). Esto permite incrustar el valor de las variables directamente dentro de la cadena utilizando llaves `{}`. Así, el texto que se imprimirá será: \"The product of 5 and 10 is: 50\"."
      ]
    }
  ]
}